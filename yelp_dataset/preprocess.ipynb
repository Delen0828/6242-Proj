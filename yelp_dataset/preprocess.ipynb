{
 "cells": [
  {
   "cell_type": "code",
   "execution_count": 1,
   "metadata": {},
   "outputs": [],
   "source": [
    "import pandas as pd\n",
    "import json"
   ]
  },
  {
   "cell_type": "code",
   "execution_count": 3,
   "metadata": {},
   "outputs": [
    {
     "name": "stderr",
     "output_type": "stream",
     "text": [
      "\n",
      "KeyboardInterrupt\n",
      "\n"
     ]
    }
   ],
   "source": [
    "def read_first_n_res(file_path, n):\n",
    "    data = []\n",
    "\n",
    "    with open(file_path, 'r', encoding='iso-8859-1') as file:\n",
    "        for _ in range(n):\n",
    "            line = file.readline()\n",
    "            if not line:\n",
    "                break\n",
    "            data.append(json.loads(line))\n",
    "\n",
    "    df = pd.DataFrame(data)\n",
    "\n",
    "    return df"
   ]
  },
  {
   "cell_type": "code",
   "execution_count": null,
   "outputs": [],
   "source": [
    "n = 5\n",
    "business_path = './yelp_academic_dataset_business.json'\n",
    "business = read_first_n_res(business_path, n)\n",
    "business"
   ],
   "metadata": {
    "collapsed": false
   }
  },
  {
   "cell_type": "code",
   "execution_count": null,
   "outputs": [],
   "source": [
    "business_ids = business['business_id'].tolist()\n",
    "business_review = {business_id: [] for business_id in business_ids}\n",
    "business_review"
   ],
   "metadata": {
    "collapsed": false
   }
  },
  {
   "cell_type": "code",
   "execution_count": null,
   "outputs": [],
   "source": [
    "id_to_name = business.set_index('business_id')['name'].to_dict()\n",
    "id_to_name"
   ],
   "metadata": {
    "collapsed": false
   }
  },
  {
   "cell_type": "code",
   "execution_count": null,
   "outputs": [],
   "source": [
    "m = 3\n",
    "review_path = './yelp_academic_dataset_review.json'\n",
    "with open(review_path, 'r', encoding='iso-8859-1') as file:\n",
    "    for line in file:\n",
    "        review = json.loads(line)\n",
    "        business_id = review['business_id']\n",
    "        if business_id in business_review and len(business_review[business_id]) < m:\n",
    "            normalized_star = review['stars'] / 5.0\n",
    "            business_review[business_id].append(normalized_star)"
   ],
   "metadata": {
    "collapsed": false
   }
  },
  {
   "cell_type": "code",
   "execution_count": null,
   "outputs": [],
   "source": [
    "business_review = {id_to_name[id]: ratings for id, ratings in business_review.items()}\n",
    "business_review"
   ],
   "metadata": {
    "collapsed": false
   }
  }
 ],
 "metadata": {
  "kernelspec": {
   "display_name": "Python 3.12.0 ('6242')",
   "language": "python",
   "name": "python3"
  },
  "language_info": {
   "codemirror_mode": {
    "name": "ipython",
    "version": 3
   },
   "file_extension": ".py",
   "mimetype": "text/x-python",
   "name": "python",
   "nbconvert_exporter": "python",
   "pygments_lexer": "ipython3",
   "version": "3.12.0"
  },
  "orig_nbformat": 4,
  "vscode": {
   "interpreter": {
    "hash": "99b4e50d836906c93d2c582c128f85bc5709c2c57aab9ab7003cfee64ffe6ee0"
   }
  }
 },
 "nbformat": 4,
 "nbformat_minor": 2
}
